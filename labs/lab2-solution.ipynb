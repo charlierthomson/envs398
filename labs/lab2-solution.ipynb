{
 "cells": [
  {
   "cell_type": "markdown",
   "metadata": {},
   "source": [
    "# Lab 2: Flexure of the oceanic lithosphere under island chains \n",
    "\n",
    "In this lab, we will solve the plate flexure equation for an ocean island load numerically using finite-differences. We will compare the model results to read data from Hawai'i and estimate the effective elastic thickness of the Pacific plate underneath the islands.\n",
    "\n",
    "Learning objectives:\n",
    "\n",
    "* Build on the theorical knowledge acquired in [Lecture 2](https://www.leouieda.com/envs398/slides/2-isostasy/).\n",
    "* Learn how to apply the finite-difference method to solve partial differential equations.\n",
    "* Gain a practical understanding of plate flexure.\n",
    "\n",
    "\n",
    "## General instructions\n",
    "\n",
    "This is a [Jupyter notebook](https://jupyter.org/) running in [Jupyter Lab](https://jupyterlab.readthedocs.io/en/stable/). The notebook is a programming environment that mixes code (the parts with `[1]: ` or similar next to them) and formatted text/images/equations with [Markdown](https://www.markdownguide.org/basic-syntax) (like this part right here).\n",
    "\n",
    "Quick start guide:\n",
    "\n",
    "* **Edit** any cell (blocks of code or text) by double clicking on it.\n",
    "* **Execute** a code or Markdown cell by typing `Shift + Enter` after selecting it.\n",
    "* The current active cell is the one with a **blue bar next to it**.\n",
    "* You can run cells **in any order** as long as the code sequence makes sense (it's best to go top-to-bottom, though).\n",
    "* To copy any file to the current directory, drag and drop it to the file browser on the left side.\n",
    "* Notebook files have the extension `.ipynb`."
   ]
  },
  {
   "cell_type": "markdown",
   "metadata": {},
   "source": [
    "## Import things\n",
    "\n",
    "As before, the first thing to do is load the Python libraries that we'll be using. We'll group all our imports here at the top to make it easier to see what we're using."
   ]
  },
  {
   "cell_type": "code",
   "execution_count": 1,
   "metadata": {},
   "outputs": [],
   "source": [
    "# The base of the entire scientific Python stack\n",
    "import numpy as np\n",
    "# For making plots and figures\n",
    "import matplotlib.pyplot as plt\n",
    "# To load and operate on data tables\n",
    "import pandas as pd"
   ]
  },
  {
   "cell_type": "markdown",
   "metadata": {},
   "source": [
    "## The plate flexure equation\n",
    "\n",
    "The equation describing the deflection ($w$) of an elastic plate subject to a vertical load is:\n",
    "\n",
    "$ D\\dfrac{\\partial^4 w}{\\partial x^4} = q(x) - (\\rho_m - \\rho_w) g w $\n",
    "\n",
    "in which $w$ is the deflection (how much the plate bends up or down), $x$ is the position, $D$ is the flexural rigidity of the plate, $rho_c$ and $rho_m$ are the crust and mantle densities, $g$ is gravity (for these purposes, assume $9.8\\ m/s^2$), and $q(x)$ is a force density applied by the load on the plate (the weight of the topography). The term $(\\rho_m - \\rho_w) g w$ is the restoring hydrostatic force (buoyancy) from replacing mantle material at depth with water on top because of the deflection.\n",
    "\n",
    "One of the the assumptions we're taking here is that the lithosphere has a density $\\rho_m$ same as the underlying mantle. So we're effectively disregarding the crustal part of the lithosphere. \n",
    "\n",
    "The flexural rigidity can be described in terms of the plate's elastic parameters:\n",
    "\n",
    "$D = \\dfrac{E T_e^2}{12(1 - \\nu^2)}$\n",
    "\n",
    "$E$ is [Young's modulus](https://en.wikipedia.org/wiki/Young's_modulus), $\\nu$ is [Poisson's ratio](https://en.wikipedia.org/wiki/Poisson's_ratio), and $T_e$ is the *effective elastic thickness* (the reference books use $h$ for this but $T_e$ is very common in the literature).\n",
    "\n",
    "The **load force per unit area** $q(x)$ is the weight of the load applied on the lithosphere. For a load of height $h$ and density $\\rho_c$, the weight per unit area is:\n",
    "\n",
    "$q(x) = g \\rho_c h(x)$\n",
    "\n",
    "**Note:** For a detailed derivation of these equations and analytical solutions, see \"Chapter 3: Elasticity and Flexure\" of \"Geodynamics\" by Turcotte and Schubert."
   ]
  },
  {
   "cell_type": "markdown",
   "metadata": {},
   "source": [
    "## Boundary conditions\n",
    "\n",
    "We need to consider the appropriate boundary conditions for the loading of the oceanic lithosphere by an island chain. If we assume that the load is applied at the middle of the plate, we can consider the boundaries as stable lithosphere under no load. In that case, we don't expect to see any deflection at the boundaries:\n",
    "\n",
    "$w(x=0) = 0$ and $w(x=x_{max}) = 0$\n",
    "\n",
    "We also need to imposed conditions on the derivative of $w$. If there is no deflection, we can also assume that the first derivative of deflection is zero (the plate approaches the boundaries horizontally, not at an angle):\n",
    "\n",
    "$\\dfrac{\\partial w}{\\partial x}(x=0) = 0$ and $\\dfrac{\\partial w}{\\partial x}(x=x_{max}) = 0$"
   ]
  },
  {
   "cell_type": "markdown",
   "metadata": {},
   "source": [
    "## Finite-difference solution\n",
    "\n",
    "The finite-difference method is a way of calculating an approximate solution to partial differential equations. Numerical solutions allows us to solve problems for complex sources and mediums for which analytical solutions might not have been found.\n",
    "\n",
    "Remembering our calculus, the derivative is defined as:\n",
    "\n",
    "$\\dfrac{\\partial w}{\\partial x}(x) = \\lim_{\\Delta x \\to 0} \\dfrac{w(x + \\Delta x) - w(x)}{\\Delta x}$\n",
    "\n",
    "The main concept for finite-differences is approximating the derivative by eliminating the limit above and assuming that $\\Delta x$ is sufficiently small:\n",
    "\n",
    "$\\dfrac{\\partial w}{\\partial x}(x) \\approx \\dfrac{w(x + \\Delta x) - w(x)}{\\Delta x}$\n",
    "\n",
    "The numerical process involves discretizing the continuous value $w(x)$ into evenly spaced points $w_0, w_1, \\ldots, w_{N-1}$ with $\\Delta x$ spacing between them. In that case, the first derivative between points $w_0$ and $w_1$ can be approximated by:\n",
    "\n",
    "$\\dfrac{\\partial w}{\\partial x}(x_0) \\approx \\dfrac{w_1 - w_0}{\\Delta x}$\n",
    "\n",
    "Propagating this to other higher order derivatives: \n",
    "\n",
    "![Finite-differences for up to fourth order derivatives.](figures/finite-differences-grid.svg)\n",
    "\n",
    "With finite-differences, we can calculate the derivative at $x_2$ from values of $w$ in the 5 points around $x_2$.\n",
    "\n",
    "Using this formulation, the flexure equation in finite-differences form is:\n",
    "\n",
    "$ \n",
    "D \\dfrac{w_{i+2} - 4w_{i+1} + 6w_i - 4w_{i-1} + w_{i-2}}{\\Delta x^4} = q_i - (\\rho_m - \\rho_w) g w_i\n",
    "$\n",
    "\n",
    "Here, we're using $w_i$ to represent the deflection at an arbitrary node in the grid. Notice that we have discretized the load $q(x)$ at the same locations as well to get $q_i$.\n",
    "\n",
    "The **boundary conditions** also need to be converted to discrete finite-differences:\n",
    "\n",
    "$w_0 = 0$ and $w_{N-1} = 0$\n",
    "\n",
    "$\\dfrac{w_1- w_0}{\\Delta x} = 0$ and $\\dfrac{w_{N-1} - w_{N-2}}{\\Delta x} = 0$."
   ]
  },
  {
   "cell_type": "markdown",
   "metadata": {},
   "source": [
    "## Solving for $w$\n",
    "\n",
    "**The deflection $w$ is what we want to calculate so they are the unknowns in this equation.** So we can re-arange the equation above to isolate the $w$ on the left-hand side of the equation and any term not containing $w$ on the other. Also eliminate the division to make our lives easier. \n",
    "\n",
    "$ \n",
    "D w_{i+2} - 4 D w_{i+1} + \\left[6D + \\Delta x^4 (\\rho_m - \\rho_w) g\\right] w_i - 4 D w_{i-1} + D w_{i-2} = \\Delta x^4 q_i\n",
    "$\n",
    "\n",
    "Since we have values of $w$ for multiple values of $i$, we can form an equation system (with the boundary conditions as well):\n",
    "\n",
    "$\n",
    "\\begin{align*}\n",
    "  w_0 &= 0  \\\\\n",
    "  w_{N-1} &= 0  \\\\\n",
    "  w_1 - w_0 &= 0  \\\\\n",
    "  w_{N-1} - w_{N-2} &= 0  \\\\\n",
    "  D w_{4} - 4 D w_{3} + \\left[6D + \\Delta x^4 (\\rho_m - \\rho_w) g\\right] w_2 - 4 D w_{1} + D w_{0} &= \\Delta x^4 q_2  \\\\ \n",
    "  D w_{5} - 4 D w_{4} + \\left[6D + \\Delta x^4 (\\rho_m - \\rho_w) g\\right] w_3 - 4 D w_{2} + D w_{1} &= \\Delta x^4 q_3  \\\\ \n",
    "  \\vdots & \\\\\n",
    "  D w_{N-1} - 4 D w_{N-2} + \\left[6D + \\Delta x^4 (\\rho_m - \\rho_w) g\\right] w_{N-3} - 4 D w_{N-4} + D w_{N-5} &= \\Delta x^4 q_{N-3}\n",
    "\\end{align*}\n",
    "$\n",
    "\n",
    "With this system, we have $N$ unknowns and $N$ equations ($N-4$ for the flexure equation and $4$ for the boundary conditions). **Solving the system will give us the flexure ($w$) for a given load $q$.**"
   ]
  },
  {
   "cell_type": "markdown",
   "metadata": {},
   "source": []
  },
  {
   "cell_type": "markdown",
   "metadata": {},
   "source": [
    "## Questions\n",
    "\n",
    "Discuss the following in small groups:\n"
   ]
  }
 ],
 "metadata": {
  "kernelspec": {
   "display_name": "Python [conda env:envs398]",
   "language": "python",
   "name": "conda-env-envs398-py"
  },
  "language_info": {
   "codemirror_mode": {
    "name": "ipython",
    "version": 3
   },
   "file_extension": ".py",
   "mimetype": "text/x-python",
   "name": "python",
   "nbconvert_exporter": "python",
   "pygments_lexer": "ipython3",
   "version": "3.8.0"
  }
 },
 "nbformat": 4,
 "nbformat_minor": 4
}
