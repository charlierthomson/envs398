{
 "cells": [
  {
   "cell_type": "markdown",
   "metadata": {},
   "source": [
    "# Lab 2: Flexure of the oceanic lithosphere under island chains \n",
    "\n",
    "In this lab, we will solve the plate flexure equation for an ocean island load numerically using finite-differences. We will compare the model results to read data from Hawai'i and estimate the effective elastic thickness of the Pacific plate underneath the islands.\n",
    "\n",
    "Learning objectives:\n",
    "\n",
    "* Build on the theorical knowledge acquired in [Lecture 2](https://www.leouieda.com/envs398/slides/2-isostasy/).\n",
    "* Learn how to apply the finite-difference method to solve partial differential equations.\n",
    "* Gain a practical understanding of plate flexure.\n",
    "\n",
    "\n",
    "## General instructions\n",
    "\n",
    "This is a [Jupyter notebook](https://jupyter.org/) running in [Jupyter Lab](https://jupyterlab.readthedocs.io/en/stable/). The notebook is a programming environment that mixes code (the parts with `[1]: ` or similar next to them) and formatted text/images/equations with [Markdown](https://www.markdownguide.org/basic-syntax) (like this part right here).\n",
    "\n",
    "Quick start guide:\n",
    "\n",
    "* **Edit** any cell (blocks of code or text) by double clicking on it.\n",
    "* **Execute** a code or Markdown cell by typing `Shift + Enter` after selecting it.\n",
    "* The current active cell is the one with a **blue bar next to it**.\n",
    "* You can run cells **in any order** as long as the code sequence makes sense (it's best to go top-to-bottom, though).\n",
    "* To copy any file to the current directory, drag and drop it to the file browser on the left side.\n",
    "* Notebook files have the extension `.ipynb`."
   ]
  },
  {
   "cell_type": "markdown",
   "metadata": {},
   "source": [
    "## Import things\n",
    "\n",
    "As before, the first thing to do is load the Python libraries that we'll be using. We'll group all our imports here at the top to make it easier to see what we're using."
   ]
  },
  {
   "cell_type": "code",
   "execution_count": 1,
   "metadata": {},
   "outputs": [
    {
     "name": "stderr",
     "output_type": "stream",
     "text": [
      "WARNING:root:Setting cartopy.config[\"pre_existing_data_dir\"] to /home/leo/miniconda3/envs/env398/share/cartopy. Don't worry, this is probably intended behaviour to avoid failing downloads of geological data behind a firewall.\n"
     ]
    }
   ],
   "source": [
    "# The base of the entire scientific Python stack\n",
    "import numpy as np\n",
    "# For making plots and figures\n",
    "import matplotlib.pyplot as plt\n",
    "# To load and operate on data tables\n",
    "import pandas as pd"
   ]
  },
  {
   "cell_type": "markdown",
   "metadata": {},
   "source": [
    "## The plate flexure equation\n",
    "\n",
    "The equation describing the deflection ($w$) of an elastic plate subject to a vertical load is:\n",
    "\n",
    "$ D\\dfrac{\\partial^4 w}{\\partial x^4} = q(x) - (\\rho_m - \\rho_c) g w $\n",
    "\n",
    "in which $w$ is the deflection (how much the plate bends up or down), $x$ is the position, $D$ is the flexural rigidity of the plate, $rho_c$ and $rho_m$ are the crust and mantle densities, $g$ is gravity (for these purposes, assume $9.8\\ m/s^2$, and $q(x)$ is a force density applied by the load on the plate (the weight of the topography).\n",
    "\n",
    "The flexural rigidity can be described in terms of the plate's elastic parameters:\n",
    "\n",
    "$D = \\dfrac{E T_e^2}{12(1 - \\nu^2)}$\n",
    "\n",
    "$E$ is [Young's modulus](https://en.wikipedia.org/wiki/Young's_modulus), $\\nu$ is [Poisson's ratio](https://en.wikipedia.org/wiki/Poisson's_ratio), and $T_e$ is the *effective elastic thickness* (the reference books use $h$ for this but $T_e$ is very common in the literature).\n",
    "\n",
    "**Note:** For a detailed derivation of these equations and analytical solutions, see \"Chapter 3: Elasticity and Flexure\" of \"Geodynamics\" by Turcotte and Schubert."
   ]
  },
  {
   "cell_type": "markdown",
   "metadata": {},
   "source": [
    "## The finite-difference method"
   ]
  },
  {
   "cell_type": "markdown",
   "metadata": {},
   "source": [
    "## Questions\n",
    "\n",
    "Discuss the following in small groups:\n",
    "\n",
    "1. Does sea floor spreading happen at the same rate everywhere?\n",
    "2. Does the maximum earthquake depth indicate the maximum depth of subduction?\n",
    "3. Which aspect of loading data in Python did you find most difficult?\n",
    "4. What could be done to make it easier?"
   ]
  }
 ],
 "metadata": {
  "kernelspec": {
   "display_name": "Python [conda env:envs398]",
   "language": "python",
   "name": "conda-env-envs398-py"
  },
  "language_info": {
   "codemirror_mode": {
    "name": "ipython",
    "version": 3
   },
   "file_extension": ".py",
   "mimetype": "text/x-python",
   "name": "python",
   "nbconvert_exporter": "python",
   "pygments_lexer": "ipython3",
   "version": "3.8.0"
  }
 },
 "nbformat": 4,
 "nbformat_minor": 4
}
